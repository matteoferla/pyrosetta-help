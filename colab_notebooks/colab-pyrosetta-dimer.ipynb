{
 "cells": [
  {
   "cell_type": "markdown",
   "metadata": {
    "cellView": "form",
    "colab": {
     "background_save": true
    },
    "id": "Ky1HtWwAzEWb",
    "pycharm": {
     "name": "#%% md\n"
    }
   },
   "source": [
    "## Dimer scoring\n",
    "This notebook from [github.com/matteoferla/pyrosetta_help](https://github.com/matteoferla/pyrosetta_help).\n",
    "\n",
    "It can be opened in Colabs via [https://colab.research.google.com/github/matteoferla/pyrosetta_help/blob/main/colabs/colabs-pyrosetta-dimer.ipynb](https://colab.research.google.com/github/matteoferla/pyrosetta_help/blob/main/colabs/colabs-pyrosetta-dimer.ipynb)\n",
    "\n",
    "This notebook is intened for use with a [ColabFold output](https://github.com/sokrypton/ColabFold) from a complex of two protein.\n",
    "It loads, relaxes (=energy minises) and scores the interface of these.\n",
    "Some tricks discussed in https://blog.matteoferla.com/2021/08/tweaking-alphafold2-models-with.html\n",
    "\n",
    "#### Resource location\n",
    "This notebook is from the repository [pyrosetta help](https://github.com/matteoferla/pyrosetta_help)\n",
    "<!--- silly badges: --->\n",
    "[![https img shields io github forks matteoferla pyrosetta_help label Fork style social logo github](https://img.shields.io/github/forks/matteoferla/pyrosetta_help?label=Fork&style=social&logo=github)](https://github.com/matteoferla/pyrosetta_help)\n",
    "[![https img shields io github stars matteoferla pyrosetta_help style social logo github](https://img.shields.io/github/stars/matteoferla/pyrosetta_help?style=social&logo=github)](https://github.com/matteoferla/pyrosetta_help)\n",
    "[![https img shields io github watchers matteoferla pyrosetta_help label Watch style social logo github](https://img.shields.io/github/watchers/matteoferla/pyrosetta_help?label=Watch&style=social&logo=github)](https://github.com/matteoferla/pyrosetta_help)\n",
    "[![https img shields io github last commit matteoferla pyrosetta_help logo github](https://img.shields.io/github/last-commit/matteoferla/pyrosetta_help?logo=github)](https://github.com/matteoferla/pyrosetta_help)\n",
    "[![https img shields io github license matteoferla pyrosetta_help logo github](https://img.shields.io/github/license/matteoferla/pyrosetta_help?logo=github)](https://github.com/matteoferla/pyrosetta_help/raw/master/LICENCE)\n",
    "[![https img shields io github release date matteoferla pyrosetta_help logo github](https://img.shields.io/github/release-date/matteoferla/pyrosetta_help?logo=github)](https://github.com/matteoferla/pyrosetta_help)\n",
    "[![https img shields io github commit activity m matteoferla pyrosetta_help logo github](https://img.shields.io/github/commit-activity/m/matteoferla/pyrosetta_help?logo=github)](https://github.com/matteoferla/pyrosetta_help)\n",
    "[![https img shields io github issues matteoferla pyrosetta_help logo github](https://img.shields.io/github/issues/matteoferla/pyrosetta_help?logo=github)](https://github.com/matteoferla/pyrosetta_help)\n",
    "[![https img shields io github issues closed matteoferla pyrosetta_help logo github](https://img.shields.io/github/issues-closed/matteoferla/pyrosetta_help?logo=github)](https://github.com/matteoferla/pyrosetta_help)\n",
    "\n",
    "#### Authors, funding and affiliations\n",
    "_Matteo Ferla_: Taylor group / Oxford Genomic Medicine theme, Wellcome Centre for Human Genetics, University of Oxford\n",
    "[WCHG](https://www.well.ox.ac.uk/people/matteo-ferla)\n",
    "[![https img shields io badge orcid 0000 0002 5508 4673 a6ce39 logo orcid](https://img.shields.io/badge/orcid-0000--0002--5508--4673-a6ce39?logo=orcid)](https://orcid.org/0000--0002--5508--4673) [![https img shields io badge google scholar gF bp_cAAAAJ success logo googlescholar](https://img.shields.io/badge/google--scholar-gF--bp_cAAAAJ-success?logo=googlescholar)](https://scholar.google.com/citations?user=gF--bp_cAAAAJ&hl=en) [![https img shields io twitter follow matteoferla label Follow logo twitter](https://img.shields.io/twitter/follow/matteoferla?label=Follow&logo=twitter)](https://twitter.com/matteoferla) [![https img shields io stackexchange stackoverflow r 4625475 logo stackoverflow](https://img.shields.io/stackexchange/stackoverflow/r/4625475?logo=stackoverflow)](https://stackoverflow.com/users/4625475) [![https img shields io stackexchange bioinformatics r 6322 logo stackexchange](https://img.shields.io/stackexchange/bioinformatics/r/6322?logo=stackexchange)](https://bioinformatics.stackexchange.com/users/6322) [![https img shields io badge email gmail informational logo googlemail](https://img.shields.io/badge/email-gmail-informational&logo=googlemail)](https://mailhide.io/e/Ey3RNO2G) [![https img shields io badge email Oxford informational logo googlemail](https://img.shields.io/badge/email-Oxford-informational&logo=googlemail)](https://mailhide.io/e/Y1dbgyyE)\n",
    "![Ox](https://upload.wikimedia.org/wikipedia/en/thumb/2/2f/University_of_Oxford.svg/132px-University_of_Oxford.svg.png)"
   ]
  },
  {
   "cell_type": "code",
   "execution_count": null,
   "metadata": {
    "cellView": "form",
    "collapsed": false,
    "pycharm": {
     "name": "#%%\n"
    }
   },
   "outputs": [],
   "source": [
    "#@title Installation\n",
    "#@markdown Press the play button on the top right hand side of this cell\n",
    "#@markdown once you have checked the settings.\n",
    "#@markdown You will be notified that this notebook is not from Google, that is normal.\n",
    "!pip install rdkit-pypi rdkit-to-params biopython pyrosetta-help\n",
    "!pip install --upgrade plotly\n",
    "\n",
    "import os\n",
    "from importlib import reload\n",
    "import pyrosetta_help as ph\n",
    "from typing import *\n",
    "\n",
    "# Muppet-proofing: are we in colab?\n",
    "assert ph.get_shell_mode() == 'colab', 'This is a colab notebook, if running in Jupyter notebook, the installation is different'\n",
    "\n",
    "# ============================================================================\n",
    "#@markdown ### Use Google Drive\n",
    "#@markdown Optionally store your results in your google drive.\n",
    "#@markdown If `use_drive` is True, you will be prompted to give permission to use Google Drive\n",
    "#@markdown (you may be prompted to follow a link and possibly authenticate and then copy a code into a box)\n",
    "#@markdown —**_always_ remember to check strangers' code against data theft**:\n",
    "#@markdown e.g. search and look for all instances of `http`, `requests` and `post` in the code, and\n",
    "#@markdown make sure the creator is not typosquatting as someone else (e.g. username `Coogle`).\n",
    "use_drive = True  #@param {type:\"boolean\"}\n",
    "ph.mount_google_drive(use_drive)\n",
    "\n",
    "# ============================================================================\n",
    "#@markdown ### PyRosetta installation\n",
    "#@markdown This will install PyRosetta in this Colab notebook (~2–15 minutes depending on time of day),\n",
    "#@markdown but you will require a [PyRosetta licence](https://www.pyrosetta.org/home/licensing-pyrosetta)\n",
    "#@markdown (free for academics).\n",
    "#@markdown to speed things up _next_ time you can download a release into your Google Drive.\n",
    "#@markdown Use Google Drive for PyRosetta:\n",
    "\n",
    "#@markdown &#x1F44D; maybe faster next time\n",
    "\n",
    "#@markdown &#x1F44E; occupies some 10 GB, so you'll need to be on the 100 GB plan of Google Drive (it's one pound a month).\n",
    "\n",
    "download_to_drive = False #@param {type:\"boolean\"}\n",
    "download_path = '.' #@param {type:\"string\"}\n",
    "#@markdown If this is the next-time, `download_to_drive` and the credentials below will be ignored if\n",
    "#@markdown there's a release in `download_path`.\n",
    "\n",
    "#@markdown The following is not the real username and password. However, the format is similar.\n",
    "username = 'boltzmann'  #@param {type:\"string\"}\n",
    "username.strip().lower()\n",
    "password = 'constant'  #@param {type:\"string\"}\n",
    "#@markdown If yours are not the the academic credentials\n",
    "#@markdown disable this:\n",
    "hash_comparison_required = True #@param {type:\"boolean\"}\n",
    "#@markdown &#128544; THIS FLAG IS NOT PREVENTING YOU FROM USING PLAIN ROSETTA CREDENTIALS\n",
    "#@markdown AS THE CUSTOM ERROR SAYS! **REGULAR ROSETTA CREDENTIALS DO NOT WORK FOR PYROSETTA.**\n",
    "\n",
    "if download_to_drive and not use_drive:\n",
    "    raise ValueError('You said False to `use_drive` and True to `download_to_drive`? Very funny.')\n",
    "elif download_to_drive:\n",
    "    ph.download_pyrosetta(username=username,\n",
    "                          password=password,\n",
    "                          path=download_path,\n",
    "                          hash_comparison_required=hash_comparison_required)\n",
    "else:\n",
    "    pass\n",
    "\n",
    "ph.install_pyrosetta(username=username,\n",
    "                     password=password,\n",
    "                     path=download_path,\n",
    "                     hash_comparison_required=hash_comparison_required)\n",
    "reload(ph)\n",
    "\n",
    "# ??????? NOTE ??????????????????????????????????????????????????????????????????????\n",
    "# ? Note to code spies\n",
    "# ? this is a convoluted way to install pyrosetta via pyrosetta_help, due to options.\n",
    "# ? the quicker way is:\n",
    "# ?\n",
    "# ? >>> pip install pyrosetta-help\n",
    "# ? >>> install_pyrosetta -u xxx -p xxx\n",
    "# ??????????????????????????????????????????????????????????????????????????????????\n",
    "\n",
    "# disable as appropriate:\n",
    "!pip install py3Dmol\n",
    "# or:\n",
    "!pip install nglview\n",
    "from google.colab import output  # noqa (It's a colaboratory specific repo)\n",
    "output.enable_custom_widget_manager()\n",
    "\n",
    "\n",
    "\n",
    "# refresh imports\n",
    "import site\n",
    "site.main()"
   ]
  },
  {
   "cell_type": "code",
   "execution_count": null,
   "metadata": {
    "cellView": "form",
    "id": "osb9KA8BECIK"
   },
   "outputs": [],
   "source": [
    "#@title Start PyRosetta\n",
    "import pyrosetta\n",
    "import pyrosetta_help as ph\n",
    "\n",
    "#@markdown Do not optimise hydrogen on loading:\n",
    "no_optH = False #@param {type:\"boolean\"}\n",
    "#@markdown Ignore (True) or raise error (False) if novel residue (e.g. ligand)\n",
    "ignore_unrecognized_res=False  #@param {type:\"boolean\"}\n",
    "#@markdown Use autogenerated PDB residues are often weird (bad geometry, wrong match, protonated etc.): —best do it properly and parameterise it\n",
    "load_PDB_components=False  #@param {type:\"boolean\"}\n",
    "#@markdown Ignore all waters:\n",
    "ignore_waters=False  #@param {type:\"boolean\"}\n",
    "\n",
    "extra_options= ph.make_option_string(no_optH=no_optH,\n",
    "                                  ex1=None,\n",
    "                                  ex2=None,\n",
    "                                  mute='all',\n",
    "                                  ignore_unrecognized_res=ignore_unrecognized_res,\n",
    "                                  load_PDB_components=load_PDB_components,\n",
    "                                  ignore_waters=ignore_waters)\n",
    "\n",
    "\n",
    "# capture to log\n",
    "logger = ph.configure_logger()\n",
    "pyrosetta.init(extra_options=extra_options)\n"
   ]
  },
  {
   "cell_type": "code",
   "execution_count": null,
   "metadata": {
    "cellView": "form",
    "id": "F_Yb9sGH0Q-S"
   },
   "outputs": [],
   "source": [
    "#@title Load pose\n",
    "folder_name =  'prediction_38cac' #@param {type:\"string\"}\n",
    "#@markdown This will create an object called `analyser` \n",
    "#@markdown which has the attributes\n",
    "#@markdown * `scores` (pandas DataFrame),\n",
    "#@markdown * three dictionaries (`original_poses`, `relaxed_poses`, `phospho_poses`)\n",
    "#@markdown where the key is the rank number of the pose (value)\n",
    "#@markdown * `errors` a dictionary with key = rank number and values are the matrices that \n",
    "\n",
    " to be a Rosetta pose vector (without returning a clone)\n",
    "analyser = ph.AF2NotebookAnalyser(folder=folder_name, load_poses=True)"
   ]
  },
  {
   "cell_type": "code",
   "execution_count": null,
   "metadata": {
    "cellView": "form",
    "id": "e21LT3935U_D"
   },
   "outputs": [],
   "source": [
    "#@title Energy minimise\n",
    "\n",
    "#@markdown Check to constraints the C&alpha; atoms of residues with a harmonic function with AF2 the pairwise error as sd.\n",
    "#@markdown This is applied to two case:\n",
    "#@markdown * all non–primary-sequence–adjecent residues with an error less than 12 &Aring; and \n",
    "#@markdown * residues in different chains that are less than 15 &Aring; apart ([Rosetta-style neighbouring distance](https://blog.matteoferla.com/2020/06/love-thy-neighbours-but-select-them.html), ~C&beta; distance)\n",
    "\n",
    "constrained_errors=True  #@param {type:\"boolean\"}\n",
    "\n",
    "#@markdown Number of FastRelax cycles\n",
    "\n",
    "cycles=3   #@param {type:\"integer\"}\n",
    "analyser.sidechain_relax(cycles) # prevent blowing up...\n",
    "if constrained_errors:\n",
    " analyser.constrain(tolerance=2)\n",
    "analyser.relax(cycles)\n",
    "analyser.calculate_interface()\n",
    "\n",
    "for i in analyser.errors:\n",
    "    analyser.relaxed_poses[i].pdb_info( analyser.original_poses[i].pdb_info() )\n",
    "    if i != 1:\n",
    "        ph.superimpose_by_pLDDT(analyser.relaxed_poses[i], analyser.relaxed_poses[1])"
   ]
  },
  {
   "cell_type": "code",
   "execution_count": null,
   "metadata": {
    "cellView": "form",
    "id": "niQCQXovmaDk"
   },
   "outputs": [],
   "source": [
    "# show Pandas table:\n",
    "analyser.scores"
   ]
  },
  {
   "cell_type": "code",
   "execution_count": null,
   "metadata": {
    "cellView": "form",
    "id": "vxeijFd_kz5i"
   },
   "outputs": [],
   "source": [
    "#@title Add PTMs (optional)\n",
    "#@markdown This is rather weird because:\n",
    "#@markdown * PhosphoSitePlus does not have an API.\n",
    "#@markdown * Colabs does not have a multiline input\n",
    "#@markdown * this [way to copypaste data into a remove Jupyter Notebook](bhttps://gist.github.com/matteoferla/6de39f0057d283d270f834d487e358a9) does not work in Colabs\n",
    "#@markdown So for now just copy paste the PTMs table in the next cell instead of `PASTE HERE`\n"
   ]
  },
  {
   "cell_type": "code",
   "execution_count": null,
   "metadata": {
    "cellView": "form",
    "id": "7qJVJXIxk4fB"
   },
   "outputs": [],
   "source": [
    "raw = '''PASTE HERE'''"
   ]
  },
  {
   "cell_type": "code",
   "execution_count": null,
   "metadata": {
    "cellView": "form",
    "id": "b18iCG4Pf5XJ"
   },
   "outputs": [],
   "source": [
    "#@title Add PTMs\n",
    "chain = 'A'  #@param {type:\"string\"}\n",
    "pdb_ptms = analyser.parse_phosphosite(raw, maximum=analyser.original_poses[1].chain_end(1))\n",
    "analyser.make_phosphorylated(pdb_ptms, chain, cycles)"
   ]
  },
  {
   "cell_type": "code",
   "execution_count": null,
   "metadata": {
    "cellView": "form",
    "id": "sJxELmyamtqJ"
   },
   "outputs": [],
   "source": [
    "#@title Save poses and pandas dataframe\n",
    "\n",
    "new_folder_name =  'output' #@param {type:\"string\"}\n",
    "analyser.dump(new_folder_name)"
   ]
  },
  {
   "cell_type": "code",
   "execution_count": null,
   "metadata": {
    "cellView": "form",
    "id": "ef4NvJNqzLB8"
   },
   "outputs": [],
   "source": [
    "# Note that nglview does not work with Colabs but py3Dmol does.\n",
    "# install py3Dmol\n",
    "os.system(f'pip3 install py3Dmol')\n",
    "import site\n",
    "site.main()\n",
    "# run\n",
    "import py3Dmol\n",
    "view = py3Dmol.view(js='https://3dmol.org/build/3Dmol.js',)\n",
    "view.addModel(ph.get_pdbstr(analyser.relaxed_pose[1]),'pdb')\n",
    "view.zoomTo()\n",
    "view"
   ]
  },
  {
   "cell_type": "code",
   "execution_count": null,
   "metadata": {
    "cellView": "form",
    "collapsed": false,
    "pycharm": {
     "name": "#%%\n"
    }
   },
   "outputs": [],
   "source": [
    "#@title Upload to Michelanglo (optional)\n",
    "#@markdown [Michelanglo](https://michelanglo.sgc.ox.ac.uk/) is a website that\n",
    "#@markdown allows the creation, annotation and sharing of a webpage with an interactive protein viewport.\n",
    "#@markdown ([examples](https://michelanglo.sgc.ox.ac.uk/gallery)).\n",
    "#@markdown The created pages are private —they have a 1 in a quintillion change to be guessed within 5 tries.\n",
    "\n",
    "#@markdown Registered users (optional) can add interactive annotations to pages.\n",
    "#@markdown Leave blank for guest:\n",
    "\n",
    "username = ''  #@param {type:\"string\"}\n",
    "password = ''  #@param {type:\"string\"}\n",
    "\n",
    "#@markdown Choose initial model.\n",
    "\n",
    "chosen_pose_series = 'relaxed' #@param ['original', 'relaxed', 'phospho'] {type:\"string\"}\n",
    "chosen_rank = 1  #@param {type:\"integer\"}\n",
    "\n",
    "os.system(f'pip3 install michelanglo-api')\n",
    "import site\n",
    "site.main()\n",
    "from michelanglo_api import MikeAPI\n",
    "if not username:\n",
    "  mike = MikeAPI.guest_login()\n",
    "else:\n",
    "  mike = MikeAPI(username, password)\n",
    "\n",
    "pose = {'original': analyser.original_poses, \n",
    "        'relaxed': analyser.relaxed_poses,\n",
    "        'phospho': analyser.phospho_poses}[chosen_pose_series][chosen_rank]\n",
    "page = mike.convert_pdb(pdbblock=ph.get_pdbstr(pose))\n",
    "page.show_link()"
   ]
  },
  {
   "cell_type": "code",
   "execution_count": null,
   "metadata": {
    "cellView": "form",
    "collapsed": false,
    "pycharm": {
     "name": "#%%"
    }
   },
   "outputs": [],
   "source": []
  }
 ],
 "metadata": {
  "colab": {
   "collapsed_sections": [],
   "name": "pyrosetta-dimer.ipynb",
   "provenance": []
  },
  "kernelspec": {
   "display_name": "Python 3",
   "name": "python3"
  },
  "language_info": {
   "name": "python"
  }
 },
 "nbformat": 4,
 "nbformat_minor": 0
}