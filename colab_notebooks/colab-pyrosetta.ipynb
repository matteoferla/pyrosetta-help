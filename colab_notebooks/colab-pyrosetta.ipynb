{
 "cells": [
  {
   "cell_type": "markdown",
   "metadata": {
    "cellView": "form",
    "collapsed": false,
    "pycharm": {
     "name": "#%% md\n"
    }
   },
   "source": [
    "## blank template\n",
    "\n",
    "It can be opened in Google Colab via [https://colab.research.google.com/github/matteoferla/pyrosetta_help/blob/main/colabs/colabs-pyrosetta.ipynb](https://colab.research.google.com/github/matteoferla/pyrosetta_help/blob/main/colabs/colabs-pyrosetta.ipynb)\n",
    "\n",
    "It just for loading up PyRosetta\n",
    "\n",
    "#### Resource location\n",
    "This notebook is from the repository [pyrosetta help](https://github.com/matteoferla/pyrosetta_help)\n",
    "<!--- silly badges: --->\n",
    "[![https img shields io github forks matteoferla pyrosetta_help label Fork style social logo github](https://img.shields.io/github/forks/matteoferla/pyrosetta_help?label=Fork&style=social&logo=github)](https://github.com/matteoferla/pyrosetta_help)\n",
    "[![https img shields io github stars matteoferla pyrosetta_help style social logo github](https://img.shields.io/github/stars/matteoferla/pyrosetta_help?style=social&logo=github)](https://github.com/matteoferla/pyrosetta_help)\n",
    "[![https img shields io github watchers matteoferla pyrosetta_help label Watch style social logo github](https://img.shields.io/github/watchers/matteoferla/pyrosetta_help?label=Watch&style=social&logo=github)](https://github.com/matteoferla/pyrosetta_help)\n",
    "[![https img shields io github last commit matteoferla pyrosetta_help logo github](https://img.shields.io/github/last-commit/matteoferla/pyrosetta_help?logo=github)](https://github.com/matteoferla/pyrosetta_help)\n",
    "[![https img shields io github license matteoferla pyrosetta_help logo github](https://img.shields.io/github/license/matteoferla/pyrosetta_help?logo=github)](https://github.com/matteoferla/pyrosetta_help/raw/master/LICENCE)\n",
    "[![https img shields io github release date matteoferla pyrosetta_help logo github](https://img.shields.io/github/release-date/matteoferla/pyrosetta_help?logo=github)](https://github.com/matteoferla/pyrosetta_help)\n",
    "[![https img shields io github commit activity m matteoferla pyrosetta_help logo github](https://img.shields.io/github/commit-activity/m/matteoferla/pyrosetta_help?logo=github)](https://github.com/matteoferla/pyrosetta_help)\n",
    "[![https img shields io github issues matteoferla pyrosetta_help logo github](https://img.shields.io/github/issues/matteoferla/pyrosetta_help?logo=github)](https://github.com/matteoferla/pyrosetta_help)\n",
    "[![https img shields io github issues closed matteoferla pyrosetta_help logo github](https://img.shields.io/github/issues-closed/matteoferla/pyrosetta_help?logo=github)](https://github.com/matteoferla/pyrosetta_help)\n",
    "\n",
    "#### Authors, funding and affiliations\n",
    "_Matteo Ferla_: Taylor group / Oxford Genomic Medicine theme, Wellcome Centre for Human Genetics, University of Oxford\n",
    "[WCHG](https://www.well.ox.ac.uk/people/matteo-ferla)\n",
    "[![https img shields io badge orcid 0000 0002 5508 4673 a6ce39 logo orcid](https://img.shields.io/badge/orcid-0000--0002--5508--4673-a6ce39?logo=orcid)](https://orcid.org/0000--0002--5508--4673) [![https img shields io badge google scholar gF bp_cAAAAJ success logo googlescholar](https://img.shields.io/badge/google--scholar-gF--bp_cAAAAJ-success?logo=googlescholar)](https://scholar.google.com/citations?user=gF--bp_cAAAAJ&hl=en) [![https img shields io twitter follow matteoferla label Follow logo twitter](https://img.shields.io/twitter/follow/matteoferla?label=Follow&logo=twitter)](https://twitter.com/matteoferla) [![https img shields io stackexchange stackoverflow r 4625475 logo stackoverflow](https://img.shields.io/stackexchange/stackoverflow/r/4625475?logo=stackoverflow)](https://stackoverflow.com/users/4625475) [![https img shields io stackexchange bioinformatics r 6322 logo stackexchange](https://img.shields.io/stackexchange/bioinformatics/r/6322?logo=stackexchange)](https://bioinformatics.stackexchange.com/users/6322) [![https img shields io badge email gmail informational logo googlemail](https://img.shields.io/badge/email-gmail-informational&logo=googlemail)](https://mailhide.io/e/Ey3RNO2G) [![https img shields io badge email Oxford informational logo googlemail](https://img.shields.io/badge/email-Oxford-informational&logo=googlemail)](https://mailhide.io/e/Y1dbgyyE)\n",
    "![Ox](https://upload.wikimedia.org/wikipedia/en/thumb/2/2f/University_of_Oxford.svg/132px-University_of_Oxford.svg.png)"
   ]
  },
  {
   "cell_type": "code",
   "execution_count": null,
   "metadata": {
    "cellView": "form",
    "collapsed": false,
    "pycharm": {
     "name": "#%%\n"
    }
   },
   "outputs": [],
   "source": [
    "#@title Installation\n",
    "#@markdown Press the play button on the top right hand side of this cell\n",
    "#@markdown once you have checked the settings.\n",
    "#@markdown You will be notified that this notebook is not from Google, that is normal.\n",
    "!pip install rdkit-pypi rdkit-to-params biopython pyrosetta-help\n",
    "!pip install --upgrade plotly\n",
    "\n",
    "import os\n",
    "from importlib import reload\n",
    "import pyrosetta_help as ph\n",
    "from typing import *\n",
    "\n",
    "# Muppet-proofing: are we in colab?\n",
    "assert ph.get_shell_mode() == 'colab', 'This is a colab notebook, if running in Jupyter notebook, the installation is different'\n",
    "\n",
    "# ============================================================================\n",
    "#@markdown ### Use Google Drive\n",
    "#@markdown Optionally store your results in your google drive.\n",
    "#@markdown If `use_drive` is True, you will be prompted to give permission to use Google Drive\n",
    "#@markdown (you may be prompted to follow a link and possibly authenticate and then copy a code into a box)\n",
    "#@markdown —**_always_ remember to check strangers' code against data theft**:\n",
    "#@markdown e.g. search and look for all instances of `http`, `requests` and `post` in the code, and\n",
    "#@markdown make sure the creator is not typosquatting as someone else (e.g. username `Coogle`).\n",
    "use_drive = True  #@param {type:\"boolean\"}\n",
    "ph.mount_google_drive(use_drive)\n",
    "\n",
    "# ============================================================================\n",
    "#@markdown ### PyRosetta installation\n",
    "#@markdown This will install PyRosetta in this Colab notebook (~2–15 minutes depending on time of day),\n",
    "#@markdown but you will require a [PyRosetta licence](https://www.pyrosetta.org/home/licensing-pyrosetta)\n",
    "#@markdown (free for academics).\n",
    "#@markdown to speed things up _next_ time you can download a release into your Google Drive.\n",
    "#@markdown Use Google Drive for PyRosetta:\n",
    "\n",
    "#@markdown &#x1F44D; maybe faster next time\n",
    "\n",
    "#@markdown &#x1F44E; occupies some 10 GB, so you'll need to be on the 100 GB plan of Google Drive (it's one pound a month).\n",
    "\n",
    "download_to_drive = False #@param {type:\"boolean\"}\n",
    "download_path = '.' #@param {type:\"string\"}\n",
    "#@markdown If this is the next-time, `download_to_drive` and the credentials below will be ignored if\n",
    "#@markdown there's a release in `download_path`.\n",
    "\n",
    "#@markdown The following is not the real username and password. However, the format is similar.\n",
    "username = 'boltzmann'  #@param {type:\"string\"}\n",
    "username.strip().lower()\n",
    "password = 'constant'  #@param {type:\"string\"}\n",
    "#@markdown If yours are not the the academic credentials\n",
    "#@markdown disable this:\n",
    "hash_comparison_required = True #@param {type:\"boolean\"}\n",
    "#@markdown &#128544; THIS FLAG IS NOT PREVENTING YOU FROM USING PLAIN ROSETTA CREDENTIALS\n",
    "#@markdown AS THE CUSTOM ERROR SAYS! **REGULAR ROSETTA CREDENTIALS DO NOT WORK FOR PYROSETTA.**\n",
    "\n",
    "if download_to_drive and not use_drive:\n",
    "    raise ValueError('You said False to `use_drive` and True to `download_to_drive`? Very funny.')\n",
    "elif download_to_drive:\n",
    "    ph.download_pyrosetta(username=username,\n",
    "                          password=password,\n",
    "                          path=download_path,\n",
    "                          hash_comparison_required=hash_comparison_required)\n",
    "else:\n",
    "    pass\n",
    "\n",
    "ph.install_pyrosetta(username=username,\n",
    "                     password=password,\n",
    "                     path=download_path,\n",
    "                     hash_comparison_required=hash_comparison_required)\n",
    "reload(ph)\n",
    "\n",
    "# ??????? NOTE ??????????????????????????????????????????????????????????????????????\n",
    "# ? Note to code spies\n",
    "# ? this is a convoluted way to install pyrosetta via pyrosetta_help, due to options.\n",
    "# ? the quicker way is:\n",
    "# ?\n",
    "# ? >>> pip install pyrosetta-help\n",
    "# ? >>> install_pyrosetta -u xxx -p xxx\n",
    "# ??????????????????????????????????????????????????????????????????????????????????\n",
    "\n",
    "# disable as appropriate:\n",
    "!pip install py3Dmol\n",
    "# or:\n",
    "!pip install nglview\n",
    "from google.colab import output  # noqa (It's a colaboratory specific repo)\n",
    "output.enable_custom_widget_manager()\n",
    "\n",
    "# Colab still runs on 3.7\n",
    "# hack to enable the backport:\n",
    "import sys\n",
    "if sys.version_info.major != 3 or sys.version_info.minor < 8:\n",
    "    !pip install singledispatchmethod\n",
    "    import functools\n",
    "    from singledispatchmethod import singledispatchmethod  # noqa it's okay, PyCharm, I am not a technoluddite\n",
    "    functools.singledispatchmethod = singledispatchmethod\n",
    "    !pip install typing_extensions\n",
    "    import typing_extensions\n",
    "    import typing\n",
    "    for key, fun in typing_extensions.__dict__.items():\n",
    "      if key not in typing.__dict__:\n",
    "        setattr(typing, key, fun)\n",
    "\n",
    "# refresh imports\n",
    "import site\n",
    "site.main()"
   ]
  },
  {
   "cell_type": "code",
   "execution_count": null,
   "metadata": {
    "cellView": "form",
    "collapsed": false,
    "pycharm": {
     "name": "#%%\n"
    }
   },
   "outputs": [],
   "source": [
    "#@title Start PyRosetta\n",
    "import pyrosetta\n",
    "import pyrosetta_help as ph\n",
    "\n",
    "no_optH = False  #@param {type:\"boolean\"}\n",
    "ignore_unrecognized_res = False  #@param {type:\"boolean\"}\n",
    "load_PDB_components = False  #@param {type:\"boolean\"}\n",
    "ignore_waters = False  #@param {type:\"boolean\"}\n",
    "\n",
    "extra_options = ph.make_option_string(no_optH=no_optH,\n",
    "                                      ex1=None,\n",
    "                                      ex2=None,\n",
    "                                      mute='all',\n",
    "                                      ignore_unrecognized_res=ignore_unrecognized_res,\n",
    "                                      load_PDB_components=load_PDB_components,\n",
    "                                      ignore_waters=ignore_waters)\n",
    "\n",
    "# capture to log\n",
    "logger = ph.configure_logger()\n",
    "pyrosetta.init(extra_options=extra_options)"
   ]
  },
  {
   "cell_type": "code",
   "execution_count": null,
   "metadata": {
    "cellView": "form",
    "collapsed": false,
    "pycharm": {
     "name": "#%%\n"
    }
   },
   "outputs": [],
   "source": [
    "## Usual stuff\n",
    "pose = ph.pose_from_alphafold2('P02144')\n",
    "\n",
    "scorefxn = pyrosetta.get_fa_scorefxn()\n",
    "relax = pyrosetta.rosetta.protocols.relax.FastRelax(scorefxn, 3)\n",
    "movemap = pyrosetta.MoveMap()\n",
    "movemap.set_bb(False)\n",
    "movemap.set_chi(True)\n",
    "relax.apply(pose)"
   ]
  },
  {
   "cell_type": "code",
   "execution_count": null,
   "metadata": {
    "cellView": "form",
    "collapsed": false,
    "pycharm": {
     "name": "#%%\n"
    }
   },
   "outputs": [],
   "source": [
    "# Note that nglview does not work with Colabs but py3Dmol does.\n",
    "# install py3Dmol\n",
    "os.system(f'pip3 install py3Dmol')\n",
    "import site\n",
    "\n",
    "site.main()\n",
    "# run\n",
    "import py3Dmol\n",
    "\n",
    "view = py3Dmol.view(js='https://3dmol.org/build/3Dmol.js', )\n",
    "view.addModel(ph.get_pdbstr(pose), 'pdb')\n",
    "view.zoomTo()\n",
    "view"
   ]
  },
  {
   "cell_type": "code",
   "execution_count": null,
   "metadata": {
    "cellView": "form",
    "collapsed": false,
    "pycharm": {
     "name": "#%%\n"
    }
   },
   "outputs": [],
   "source": [
    "# Also note that RDKit Chem.Mol instances are not displays as representations by default."
   ]
  },
  {
   "cell_type": "code",
   "execution_count": null,
   "metadata": {
    "cellView": "form",
    "collapsed": false,
    "pycharm": {
     "name": "#%%\n"
    }
   },
   "outputs": [],
   "source": [
    "#@title Upload to Michelanglo (optional)\n",
    "#@markdown [Michelanglo](https://michelanglo.sgc.ox.ac.uk/) is a website that\n",
    "#@markdown allows the creation, annotation and sharing of a webpage with an interactive protein viewport.\n",
    "#@markdown ([examples](https://michelanglo.sgc.ox.ac.uk/gallery)).\n",
    "#@markdown The created pages are private —they have a 1 in a quintillion change to be guessed within 5 tries.\n",
    "\n",
    "#@markdown Registered users (optional) can add interactive annotations to pages.\n",
    "#@markdown A page created by a guest is editable by registered users with the URL to it\n",
    "#@markdown (this can be altered in the page settings).\n",
    "#@markdown Leave blank for guest (it will not add an interactive description):\n",
    "\n",
    "username = ''  #@param {type:\"string\"}\n",
    "password = ''  #@param {type:\"string\"}\n",
    "\n",
    "import os\n",
    "\n",
    "assert not os.system(f'pip3 install michelanglo-api')\n",
    "import site\n",
    "\n",
    "site.main()\n",
    "from michelanglo_api import MikeAPI, Prolink\n",
    "\n",
    "if not username:\n",
    "    mike = MikeAPI.guest_login()\n",
    "else:\n",
    "    mike = MikeAPI(username, password)\n",
    "\n",
    "page = mike.convert_pdb(pdbblock=ph.get_pdbstr(pose),\n",
    "                        data_selection='ligand',\n",
    "                        data_focus='residue',\n",
    "                        )\n",
    "if username:\n",
    "    page.retrieve()\n",
    "    page.description = '## Description\\n\\n'\n",
    "    page.description += 'autogen bla bla'\n",
    "    page.commit()\n",
    "page.show_link()"
   ]
  }
 ],
 "metadata": {
  "kernelspec": {
   "display_name": "Python 3",
   "language": "python",
   "name": "python3"
  },
  "language_info": {
   "codemirror_mode": {
    "name": "ipython",
    "version": 2
   },
   "file_extension": ".py",
   "mimetype": "text/x-python",
   "name": "python",
   "nbconvert_exporter": "python",
   "pygments_lexer": "ipython2",
   "version": "2.7.6"
  }
 },
 "nbformat": 4,
 "nbformat_minor": 0
}