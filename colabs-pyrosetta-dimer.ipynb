{
 "nbformat": 4,
 "nbformat_minor": 0,
 "metadata": {
  "colab": {
   "name": "pyrosetta-dimer.ipynb",
   "provenance": [],
   "collapsed_sections": []
  },
  "kernelspec": {
   "display_name": "Python 3",
   "name": "python3"
  },
  "language_info": {
   "name": "python"
  }
 },
 "cells": [
  {
   "cell_type": "code",
   "metadata": {
    "colab": {
     "background_save": true
    },
    "id": "Ky1HtWwAzEWb",
    "pycharm": {
     "name": "#%%\n"
    }
   },
   "source": [
    "#@title Dimer\n",
    "#@markdown Sorry, this notebook has been moved to [https://colab.research.google.com/github/matteoferla/pyrosetta_help/blob/main/colab_notebooks/colab-pyrosetta-dimer.ipynb](https://colab.research.google.com/github/matteoferla/pyrosetta_help/blob/main/colab_notebooks/colab-pyrosetta-dimer.ipynb)"
   ],
   "execution_count": null,
   "outputs": []
  }
 ]
}