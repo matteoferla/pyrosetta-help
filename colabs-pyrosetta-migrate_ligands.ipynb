{
 "nbformat": 4,
 "nbformat_minor": 0,
 "metadata": {
  "colab": {
   "name": "migrate_ligands.ipynb",
   "provenance": [],
   "collapsed_sections": []
  },
  "kernelspec": {
   "name": "python3",
   "display_name": "Python 3"
  },
  "language_info": {
   "name": "python"
  }
 },
 "cells": [
  {
   "cell_type": "code",
   "metadata": {
    "id": "ExTdj_2SFlov",
    "pycharm": {
     "name": "#%%\n"
    }
   },
   "source": [
    "#@title Migrate ligands\n",
    "#@markdown Sorry, this notebook has been moved to [https://colab.research.google.com/github/matteoferla/pyrosetta_help/blob/main/colab_notebooks/colab-pyrosetta-migrate_ligands.ipynb](https://colab.research.google.com/github/matteoferla/pyrosetta_help/blob/main/colab_notebooks/colab-pyrosetta-migrate_ligands.ipynb)"
   ],
   "execution_count": null,
   "outputs": []
  }
 ]
}