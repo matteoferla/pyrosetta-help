{
 "cells": [
  {
   "cell_type": "code",
   "execution_count": null,
   "outputs": [],
   "source": [
    "#@title Installation\n",
    "#@markdown The following is not the real password. However, the format is similar.\n",
    "username = 'boltzmann' #@param {type:\"string\"}\n",
    "password = 'constant' #@param {type:\"string\"}\n",
    "#@markdown Release to install:\n",
    "_release = 'release-295' #@param {type:\"string\"}\n",
    "#@markdown Use Google Drive for PyRosetta (way faster next time, but takes up space)\n",
    "use_drive = True #@param {type:\"boolean\"}\n",
    "#@markdown Installing `rdkit` and `rdkit_to_params` allows the creation of custom topologies (params) for new ligands\n",
    "install_rdkit = True #@param {type:\"boolean\"}\n",
    "\n",
    "\n",
    "import sys\n",
    "import platform\n",
    "import os\n",
    "assert platform.dist()[0] == 'Ubuntu'\n",
    "py_version = str(sys.version_info.major) + str(sys.version_info.minor)\n",
    "if use_drive:\n",
    "  from google.colab import drive\n",
    "  drive.mount('/content/drive')\n",
    "  _path = '/content/drive/MyDrive'\n",
    "  os.chdir(_path)\n",
    "else:\n",
    "  _path = '/content'\n",
    "if not any(['PyRosetta4.Release' in filename for filename in os.listdir()]):\n",
    "  os.system(f'curl -u {username}:{password} https://graylab.jhu.edu/download/PyRosetta4/archive/release/PyRosetta4.Release.python{py_version}.ubuntu/PyRosetta4.Release.python{py_version}.ubuntu.{_release}.tar.bz2 -o /content/a.tar.bz2')\n",
    "  os.system('tar -xf /content/a.tar.bz2')\n",
    "os.system(f'pip3 install -e {_path}/PyRosetta4.Release.python{py_version}.ubuntu.{_release}/setup/')\n",
    "os.system(f'pip3 install pyrosetta-help biopython')\n",
    "if install_rdkit:\n",
    "  os.system(f'rdkit-pypi rdkit-to-params')\n",
    "\n",
    "import site\n",
    "site.main()"
   ],
   "metadata": {
    "collapsed": false,
    "pycharm": {
     "name": "#%%\n"
    }
   }
  },
  {
   "cell_type": "code",
   "execution_count": null,
   "outputs": [],
   "source": [
    "#@title Start PyRosetta\n",
    "import pyrosetta\n",
    "import pyrosetta_help as ph\n",
    "\n",
    "no_optH = False #@param {type:\"boolean\"}\n",
    "ignore_unrecognized_res=False  #@param {type:\"boolean\"}\n",
    "load_PDB_components=False  #@param {type:\"boolean\"}\n",
    "ignore_waters=False  #@param {type:\"boolean\"}\n",
    "\n",
    "\n",
    "extra_options= ph.make_option_string(no_optH=no_optH,\n",
    "                                  ex1=None,\n",
    "                                  ex2=None,\n",
    "                                  mute='all',\n",
    "                                  ignore_unrecognized_res=ignore_unrecognized_res,\n",
    "                                  load_PDB_components=load_PDB_components,\n",
    "                                  ignore_waters=ignore_waters)\n",
    "\n",
    "\n",
    "# capture to log\n",
    "logger = ph.configure_logger()\n",
    "pyrosetta.init(extra_options=extra_options)"
   ],
   "metadata": {
    "collapsed": false,
    "pycharm": {
     "name": "#%%\n"
    }
   }
  },
  {
   "cell_type": "code",
   "execution_count": null,
   "outputs": [],
   "source": [
    "## Usual stuff\n",
    "pose = ph.pose_from_alphafold2('P02144')\n",
    "\n",
    "scorefxn = pyrosetta.get_fa_scorefxn()\n",
    "relax = pyrosetta.rosetta.protocols.relax.FastRelax(scorefxn, 3)\n",
    "movemap = pyrosetta.MoveMap()\n",
    "movemap.set_bb(False)\n",
    "movemap.set_chi(True)\n",
    "relax.apply(pose)"
   ],
   "metadata": {
    "collapsed": false,
    "pycharm": {
     "name": "#%%\n"
    }
   }
  },
  {
   "cell_type": "code",
   "execution_count": null,
   "outputs": [],
   "source": [
    "# Note that nglview does not work with Colabs but py3Dmol does.\n",
    "# install py3Dmol\n",
    "os.system(f'pip3 install py3Dmol')\n",
    "import site\n",
    "site.main()\n",
    "# run\n",
    "import py3Dmol\n",
    "view = py3Dmol.view(js='https://3dmol.org/build/3Dmol.js',)\n",
    "view.addModel(ph.get_pdbstr(pose),'pdb')\n",
    "view.zoomTo()\n",
    "view"
   ],
   "metadata": {
    "collapsed": false,
    "pycharm": {
     "name": "#%%\n"
    }
   }
  },
  {
   "cell_type": "code",
   "execution_count": null,
   "outputs": [],
   "source": [
    "# Also note that RDKit Chem.Mol instances are not displays as representations by default."
   ],
   "metadata": {
    "collapsed": false,
    "pycharm": {
     "name": "#%%\n"
    }
   }
  }
 ],
 "metadata": {
  "kernelspec": {
   "display_name": "Python 3",
   "language": "python",
   "name": "python3"
  },
  "language_info": {
   "codemirror_mode": {
    "name": "ipython",
    "version": 2
   },
   "file_extension": ".py",
   "mimetype": "text/x-python",
   "name": "python",
   "nbconvert_exporter": "python",
   "pygments_lexer": "ipython2",
   "version": "2.7.6"
  },
  "pycharm": {
   "stem_cell": {
    "cell_type": "raw",
    "source": [],
    "metadata": {
     "collapsed": false
    }
   }
  }
 },
 "nbformat": 4,
 "nbformat_minor": 0
}