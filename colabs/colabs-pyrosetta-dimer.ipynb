{
 "nbformat": 4,
 "nbformat_minor": 0,
 "metadata": {
  "colab": {
   "name": "pyrosetta-dimer.ipynb",
   "provenance": [],
   "collapsed_sections": []
  },
  "kernelspec": {
   "display_name": "Python 3",
   "name": "python3"
  },
  "language_info": {
   "name": "python"
  }
 },
 "cells": [
  {
   "cell_type": "code",
   "metadata": {
    "colab": {
     "background_save": true
    },
    "id": "Ky1HtWwAzEWb"
   },
   "source": [
    "#@title blank template\n",
    "#@markdown This notebook from [github.com/matteoferla/pyrosetta_help](https://github.com/matteoferla/pyrosetta_help).\n",
    "\n",
    "#@markdown It can be opened in Colabs via [https://colab.research.google.com/github/matteoferla/pyrosetta_help/blob/main/colabs/colabs-pyrosetta-dimer.ipynb](https://colab.research.google.com/github/matteoferla/pyrosetta_help/blob/main/colabs/colabs-pyrosetta-dimer.ipynb)\n",
    "\n",
    "#@markdown This notebook is intened for use with a [ColabFold output](https://github.com/sokrypton/ColabFold) from a complex of two protein.\n",
    "#@markdown It loads, relaxes (=energy minises) and scores the interface of these.\n",
    "#@markdown Some tricks discussed in https://blog.matteoferla.com/2021/08/tweaking-alphafold2-models-with.html\n"
   ],
   "execution_count": null,
   "outputs": []
  },
  {
   "cell_type": "code",
   "execution_count": null,
   "outputs": [],
   "source": [
    "#@title Installation\n",
    "# ================================================================\n",
    "\n",
    "#@markdown Modules installed pyrosetta\n",
    "\n",
    "# ================================================================\n",
    "#@markdown Installing PyRosetta with optional backup to your drive (way quicker next time!).\n",
    "#@markdown Note that PyRosetta occupies some 10 GB, so you'll need to be on the 100 GB plan of Google Drive (it's one pound a month).\n",
    "\n",
    "#@markdown NB. If `use_drive` is True, you will be prompted to give permission to\n",
    "#@markdown use Google Drive —_always_ remember to check strangers code against data theft: search and look for all instances of `http`, `requests` and `post` in the code.\n",
    "\n",
    "#@markdown ### Download PyRosetta\n",
    "#@markdown The following is not the real password. However, the format is similar.\n",
    "username = 'boltzmann'  #@param {type:\"string\"}\n",
    "password = 'constant'  #@param {type:\"string\"}\n",
    "#@markdown Are these the \"normal\" common credentials?\n",
    "#@markdown If so their hash will be checked beforehand to check if they are correct\n",
    "#@markdown (we don't want colab blocked by too many typos).\n",
    "hash_comparision_required = True  #@param {type:\"boolean\"}\n",
    "#@markdown The release to install will be the latest (from [graylab.jhu.edu/download/PyRosetta4](https://graylab.jhu.edu/download/PyRosetta4/archive/release/PyRosetta4.Release.python37.ubuntu/) for latest).\n",
    "\n",
    "#@markdown Use Google Drive for PyRosetta (way faster next time, but takes up space)\n",
    "#@markdown (NB. You may be prompted to follow a link and possibly authenticate and then copy a code into a box\n",
    "use_drive = True  #@param {type:\"boolean\"}\n",
    "#@markdown Installing `rdkit` and `rdkit_to_params` allows the creation of custom topologies (params) for new ligands\n",
    "install_rdkit = True  #@param {type:\"boolean\"}\n",
    "\n",
    "# ================================================================\n",
    "\n",
    "import sys\n",
    "import os\n",
    "import importlib\n",
    "import site\n",
    "from typing import *\n",
    "\n",
    "\n",
    "# ## Functions\n",
    "\n",
    "def get_shell_mode() -> str:\n",
    "    \"\"\"\n",
    "    Muppet-proofing: are we in colab?\n",
    "    \"\"\"\n",
    "    # get_ipython is a standard libary in ipython, but not script\n",
    "    from IPython import get_ipython\n",
    "    shell_name = get_ipython().__class__.__name__\n",
    "    if shell_name == 'Shell':\n",
    "        return 'colab'\n",
    "    elif shell_name == 'ZMQInteractiveShell':\n",
    "        return 'jupyter'\n",
    "    elif shell_name == 'TerminalInteractiveShell':\n",
    "        raise RuntimeError('This is a colabs notebook. Why are you running it in the terminal?')\n",
    "    else:\n",
    "        raise RuntimeError(f'This is a colabs notebook. not a {shell_name}')\n",
    "\n",
    "\n",
    "def assert_password(username: str, password: str) -> None:\n",
    "    \"\"\"\n",
    "    Verify the username and password are correct without actually knowing them.\n",
    "    I worry that there may be a large number of idiots that try to guess the passwords\n",
    "    thus getting Colab fail2ban jailed.\n",
    "    \"\"\"\n",
    "    import hashlib\n",
    "    hashed_username = hashlib.sha256(username.encode()).hexdigest()\n",
    "    hashed_password = hashlib.sha256(password.encode()).hexdigest()\n",
    "    expected_hashed_username = 'cf6f296b8145262b22721e52e2edec13ce57af8c6fc990c8ae1a4aa3e50ae40e'\n",
    "    expected_hashed_password = '45066dd976d8bf0c05dc8dd4d58727945c3437e6eb361ba9870097968db7a0da'\n",
    "    msg = ('The hash of the {} is not as expected: ' +\n",
    "           'if your username and password combo are correct and just not the academic ones, ' +\n",
    "           'set `hash_comparision_required` to False.' +\n",
    "           'If you dont know the password visit the Rosetta Commons site. ' +\n",
    "           'The password and username for PyRosetta are DIFFERENT than Rosetta or FoldIt. ' +\n",
    "           'Please do not google for username:password for this or for anything ' +\n",
    "           'as stats like number of registered users is mighty important for grants and stuff.')\n",
    "    assert hashed_username == expected_hashed_username, msg.format('username')\n",
    "    assert hashed_password == expected_hashed_password, msg.format('password')\n",
    "\n",
    "\n",
    "def install_and_import(package_name: str,\n",
    "                       pypi_name: Optional[str] = None,\n",
    "                       alias_name: Optional[str] = None):\n",
    "    \"\"\"If the module has a different name in pypi (`pypi_name`)\n",
    "    than its import name (`package_name`), specify it.\n",
    "\n",
    "         pip install pypi_name\n",
    "         import package_name as alias_name\n",
    "    \"\"\"\n",
    "    import importlib\n",
    "    # I will go to hell for this, but shmeh:\n",
    "    from pip._internal.cli.main import main as pip_main\n",
    "    if pypi_name is None:\n",
    "        pypi_name = package_name\n",
    "    if alias_name is None:\n",
    "        alias_name = package_name\n",
    "    try:\n",
    "        importlib.import_module(package_name)\n",
    "    except ImportError as error:\n",
    "        if error.name != package_name:\n",
    "            # these are not the droids we are looking for\n",
    "            raise ImportError(f'Import of {package_name} requires module {error.name}...',\n",
    "                              name=error.name)\n",
    "        pip_main(['install', pypi_name])\n",
    "    globals()[alias_name] = importlib.import_module(package_name)\n",
    "\n",
    "\n",
    "\n",
    "def set_workingpath():\n",
    "    # ## Use drive?\n",
    "    modality = get_shell_mode()\n",
    "    if modality != 'colab':\n",
    "        # jupyter --> stay\n",
    "        return './'\n",
    "    elif use_drive:\n",
    "        from google.colab import drive\n",
    "        drive.mount('/content/drive')\n",
    "        return '/content/drive/MyDrive'\n",
    "        os.chdir(_path)\n",
    "    else:  # --> stay\n",
    "        return '/content'\n",
    "\n",
    "# ## Install pyrosetta\n",
    "def get_latest_release_filename(username: str, password: str) -> str:\n",
    "    # assumes the system is Ubuntu\n",
    "    import sys, requests, re\n",
    "    from IPython.display import display, HTML\n",
    "    py_version = str(sys.version_info.major) + str(sys.version_info.minor)\n",
    "    url_to_latest = f'https://graylab.jhu.edu/download/PyRosetta4/archive/release/PyRosetta4.Release.python{py_version}.ubuntu/latest.html'\n",
    "    latest_response = requests.get(url_to_latest,\n",
    "                                   auth=requests.auth.HTTPBasicAuth(username, password)\n",
    "                                   )\n",
    "    if latest_response.status_code == 401:\n",
    "        raise ValueError('Incorrect username or password!')\n",
    "    elif latest_response.status_code not in (200, 300, 301, 302, 303, 304, 305, 306, 307, 308):\n",
    "        display(HTML(latest_response.text))\n",
    "        raise ValueError(f'Something is wrong with the url {url_to_latest}')\n",
    "    return re.search(r'[uU][rR][lL]=(.*?)[\"\\s]', latest_response.text).group(1)\n",
    "\n",
    "def install_pyrosetta(path:str):\n",
    "    import sys, importlib, site\n",
    "    # is pyrosetta installed?\n",
    "    if importlib.util.find_spec('pyrosetta'):\n",
    "        import pyrosetta\n",
    "    # is there a Pyrosetta release file in the location?\n",
    "    elif any(['PyRosetta4.Release' in filename for filename in os.listdir(path) if os.path.isdir(filename)]):\n",
    "        release_folder = [filename for filename in os.listdir(path)\n",
    "                          if 'PyRosetta4.Release' in filename and os.path.isdir(filename)][0]\n",
    "        assert not os.system(f'pip3 install -e {_path}/{release_folder}/setup/')\n",
    "    # download\n",
    "    else:\n",
    "        # check if hash is right.\n",
    "        if hash_comparision_required:\n",
    "            assert_password(username, password)\n",
    "        # download tar and uncompress it on the fly\n",
    "        latest_filename = get_latest_release_filename(username, password)\n",
    "        assert not os.system(\n",
    "            f'curl -u {username}:{password} {latest_filename} | tar -x')\n",
    "        import re\n",
    "        pyrosetta_folder = re.sub(r'.tar.\\w+$', '', latest_filename)\n",
    "        assert not os.system(f'pip3 install -e {_path}/{pyrosetta_folder}/setup/')\n",
    "    # refresh:\n",
    "    site.main()\n",
    "\n",
    "import site\n",
    "_path = set_workingpath()\n",
    "install_pyrosetta(_path)\n",
    "install_and_import(package_name='Bio', pypi_name='biopython')\n",
    "if install_rdkit:\n",
    "    install_and_import(package_name='rdkit', pypi_name='rdkit-pypi')\n",
    "    # importing these in main makes them render properly in the notebook:\n",
    "    from rdkit import Chem\n",
    "    from rdkit.Chem import PandasTools\n",
    "install_and_import(package_name='pyrosetta_help', pypi_name='pyrosetta-help', alias_name='ph')\n",
    "install_and_import(package_name='rdkit_to_params', pypi_name='rdkit-to-params')\n",
    "install_and_import('py3Dmol')\n",
    "site.main()"
   ],
   "metadata": {
    "collapsed": false,
    "pycharm": {
     "name": "#%%\n"
    }
   }
  },
  {
   "cell_type": "code",
   "metadata": {
    "id": "osb9KA8BECIK"
   },
   "source": [
    "#@title Start PyRosetta\n",
    "import pyrosetta\n",
    "import pyrosetta_help as ph\n",
    "\n",
    "#@markdown Do not optimise hydrogen on loading:\n",
    "no_optH = False #@param {type:\"boolean\"}\n",
    "#@markdown Ignore (True) or raise error (False) if novel residue (e.g. ligand)\n",
    "ignore_unrecognized_res=False  #@param {type:\"boolean\"}\n",
    "#@markdown Use autogenerated PDB residues are often weird (bad geometry, wrong match, protonated etc.): —best do it properly and parameterise it\n",
    "load_PDB_components=False  #@param {type:\"boolean\"}\n",
    "#@markdown Ignore all waters:\n",
    "ignore_waters=False  #@param {type:\"boolean\"}\n",
    "\n",
    "extra_options= ph.make_option_string(no_optH=no_optH,\n",
    "                                  ex1=None,\n",
    "                                  ex2=None,\n",
    "                                  mute='all',\n",
    "                                  ignore_unrecognized_res=ignore_unrecognized_res,\n",
    "                                  load_PDB_components=load_PDB_components,\n",
    "                                  ignore_waters=ignore_waters)\n",
    "\n",
    "\n",
    "# capture to log\n",
    "logger = ph.configure_logger()\n",
    "pyrosetta.init(extra_options=extra_options)\n"
   ],
   "execution_count": null,
   "outputs": []
  },
  {
   "cell_type": "code",
   "metadata": {
    "id": "F_Yb9sGH0Q-S"
   },
   "source": [
    "#@title Load pose\n",
    "folder_name =  'prediction_38cac' #@param {type:\"string\"}\n",
    "#@markdown This will create an object called `analyser` \n",
    "#@markdown which has the attributes\n",
    "#@markdown * `scores` (pandas DataFrame),\n",
    "#@markdown * three dictionaries (`original_poses`, `relaxed_poses`, `phospho_poses`)\n",
    "#@markdown where the key is the rank number of the pose (value)\n",
    "#@markdown * `errors` a dictionary with key = rank number and values are the matrices that \n",
    "\n",
    " to be a Rosetta pose vector (without returning a clone)\n",
    "analyser = ph.AF2NotebookAnalyser(folder=folder_name, load_poses=True)"
   ],
   "execution_count": null,
   "outputs": []
  },
  {
   "cell_type": "code",
   "metadata": {
    "id": "e21LT3935U_D"
   },
   "source": [
    "#@title Energy minimise\n",
    "\n",
    "#@markdown Check to constraints the C&alpha; atoms of residues with a harmonic function with AF2 the pairwise error as sd.\n",
    "#@markdown This is applied to two case:\n",
    "#@markdown * all non–primary-sequence–adjecent residues with an error less than 12 &Aring; and \n",
    "#@markdown * residues in different chains that are less than 15 &Aring; apart ([Rosetta-style neighbouring distance](https://blog.matteoferla.com/2020/06/love-thy-neighbours-but-select-them.html), ~C&beta; distance)\n",
    "\n",
    "constrained_errors=True  #@param {type:\"boolean\"}\n",
    "\n",
    "#@markdown Number of FastRelax cycles\n",
    "\n",
    "cycles=3   #@param {type:\"integer\"}\n",
    "analyser.sidechain_relax(cycles) # prevent blowing up...\n",
    "if constrained_errors:\n",
    " analyser.constrain(tolerance=2)\n",
    "analyser.relax(cycles)\n",
    "analyser.calculate_interface()\n",
    "\n",
    "for i in analyser.errors:\n",
    "    analyser.relaxed_poses[i].pdb_info( analyser.original_poses[i].pdb_info() )\n",
    "    if i != 1:\n",
    "        ph.superimpose_by_pLDDT(analyser.relaxed_poses[i], analyser.relaxed_poses[1])"
   ],
   "execution_count": null,
   "outputs": []
  },
  {
   "cell_type": "code",
   "metadata": {
    "id": "niQCQXovmaDk"
   },
   "source": [
    "# show Pandas table:\n",
    "analyser.scores"
   ],
   "execution_count": null,
   "outputs": []
  },
  {
   "cell_type": "code",
   "metadata": {
    "id": "vxeijFd_kz5i"
   },
   "source": [
    "#@title Add PTMs (optional)\n",
    "#@markdown This is rather weird because:\n",
    "#@markdown * PhosphoSitePlus does not have an API.\n",
    "#@markdown * Colabs does not have a multiline input\n",
    "#@markdown * this [way to copypaste data into a remove Jupyter Notebook](bhttps://gist.github.com/matteoferla/6de39f0057d283d270f834d487e358a9) does not work in Colabs\n",
    "#@markdown So for now just copy paste the PTMs table in the next cell instead of `PASTE HERE`\n"
   ],
   "execution_count": null,
   "outputs": []
  },
  {
   "cell_type": "code",
   "metadata": {
    "id": "7qJVJXIxk4fB"
   },
   "source": [
    "raw = '''PASTE HERE'''"
   ],
   "execution_count": null,
   "outputs": []
  },
  {
   "cell_type": "code",
   "metadata": {
    "id": "b18iCG4Pf5XJ"
   },
   "source": [
    "#@title Add PTMs\n",
    "chain = 'A'  #@param {type:\"string\"}\n",
    "pdb_ptms = analyser.parse_phosphosite(raw, maximum=analyser.original_poses[1].chain_end(1))\n",
    "analyser.make_phosphorylated(pdb_ptms, chain, cycles)"
   ],
   "execution_count": null,
   "outputs": []
  },
  {
   "cell_type": "code",
   "metadata": {
    "id": "sJxELmyamtqJ"
   },
   "source": [
    "#@title Save poses and pandas dataframe\n",
    "\n",
    "new_folder_name =  'output' #@param {type:\"string\"}\n",
    "analyser.dump(new_folder_name)"
   ],
   "execution_count": null,
   "outputs": []
  },
  {
   "cell_type": "code",
   "metadata": {
    "id": "ef4NvJNqzLB8"
   },
   "source": [
    "# Note that nglview does not work with Colabs but py3Dmol does.\n",
    "# install py3Dmol\n",
    "os.system(f'pip3 install py3Dmol')\n",
    "import site\n",
    "site.main()\n",
    "# run\n",
    "import py3Dmol\n",
    "view = py3Dmol.view(js='https://3dmol.org/build/3Dmol.js',)\n",
    "view.addModel(ph.get_pdbstr(analyser.relaxed_pose[1]),'pdb')\n",
    "view.zoomTo()\n",
    "view"
   ],
   "execution_count": null,
   "outputs": []
  },
  {
   "cell_type": "code",
   "execution_count": null,
   "outputs": [],
   "source": [
    "#@title Upload to Michelanglo (optional)\n",
    "#@markdown [Michelanglo](https://michelanglo.sgc.ox.ac.uk/) is a website that\n",
    "#@markdown allows the creation, annotation and sharing of a webpage with an interactive protein viewport.\n",
    "#@markdown ([examples](https://michelanglo.sgc.ox.ac.uk/gallery)).\n",
    "#@markdown The created pages are private —they have a 1 in a quintillion change to be guessed within 5 tries.\n",
    "\n",
    "#@markdown Registered users (optional) can add interactive annotations to pages.\n",
    "#@markdown Leave blank for guest:\n",
    "\n",
    "username = ''  #@param {type:\"string\"}\n",
    "password = ''  #@param {type:\"string\"}\n",
    "\n",
    "#@markdown Choose initial model.\n",
    "\n",
    "chosen_pose_series = 'relaxed' #@param ['original', 'relaxed', 'phospho'] {type:\"string\"}\n",
    "chosen_rank = 1  #@param {type:\"integer\"}\n",
    "\n",
    "os.system(f'pip3 install michelanglo-api')\n",
    "import site\n",
    "site.main()\n",
    "from michelanglo_api import MikeAPI\n",
    "if not username:\n",
    "  mike = MikeAPI.guest_login()\n",
    "else:\n",
    "  mike = MikeAPI(username, password)\n",
    "\n",
    "pose = {'original': analyser.original_poses, \n",
    "        'relaxed': analyser.relaxed_poses,\n",
    "        'phospho': analyser.phospho_poses}[chosen_pose_series][chosen_rank]\n",
    "page = mike.convert_pdb(pdbblock=ph.get_pdbstr(pose))\n",
    "page.show_link()"
   ],
   "metadata": {
    "collapsed": false,
    "pycharm": {
     "name": "#%%\n"
    }
   }
  },
  {
   "cell_type": "code",
   "execution_count": null,
   "outputs": [],
   "source": [],
   "metadata": {
    "collapsed": false,
    "pycharm": {
     "name": "#%%"
    }
   }
  }
 ]
}