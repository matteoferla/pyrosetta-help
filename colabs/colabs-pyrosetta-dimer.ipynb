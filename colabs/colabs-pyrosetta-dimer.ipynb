{
 "nbformat": 4,
 "nbformat_minor": 0,
 "metadata": {
  "colab": {
   "name": "pyrosetta-dimer.ipynb",
   "provenance": [],
   "collapsed_sections": []
  },
  "kernelspec": {
   "display_name": "Python 3",
   "name": "python3"
  },
  "language_info": {
   "name": "python"
  }
 },
 "cells": [
  {
   "cell_type": "code",
   "metadata": {
    "colab": {
     "background_save": true
    },
    "id": "Ky1HtWwAzEWb"
   },
   "source": [
    "#@title blank template\n",
    "#@markdown This notebook from [github.com/matteoferla/pyrosetta_help](https://github.com/matteoferla/pyrosetta_help).\n",
    "\n",
    "#@markdown It can be opened in Colabs via [https://colab.research.google.com/github/matteoferla/pyrosetta_help/blob/main/colabs/colabs-pyrosetta-dimer.ipynb](https://colab.research.google.com/github/matteoferla/pyrosetta_help/blob/main/colabs/colabs-pyrosetta-dimer.ipynb)\n",
    "\n",
    "#@markdown This notebook is intened for use with a [ColabFold output](https://github.com/sokrypton/ColabFold) from a complex of two protein.\n",
    "#@markdown It loads, relaxes (=energy minises) and scores the interface of these.\n",
    "#@markdown Some tricks discussed in https://blog.matteoferla.com/2021/08/tweaking-alphafold2-models-with.html\n"
   ],
   "execution_count": null,
   "outputs": []
  },
  {
   "cell_type": "code",
   "execution_count": null,
   "outputs": [],
   "source": [
    "#@title Installation\n",
    "#@markdown Installing PyRosetta with optional backup to your drive (way quicker next time!).\n",
    "#@markdown Note that PyRosetta occupies some 10 GB, so you'll need to be on the 100 GB plan of Google Drive (it's one pound a month).\n",
    "\n",
    "#@markdown The following is not the real password. However, the format is similar.\n",
    "username = 'boltzmann' #@param {type:\"string\"}\n",
    "password = 'constant' #@param {type:\"string\"}\n",
    "#@markdown Release to install:\n",
    "_release = 'release-295' #@param {type:\"string\"}\n",
    "#@markdown Use Google Drive for PyRosetta (way faster next time, but takes up space)\n",
    "#@markdown (NB. You may be prompted to follow a link and possibly authenticate and then copy a code into a box\n",
    "use_drive = True #@param {type:\"boolean\"}\n",
    "#@markdown Installing `rdkit` and `rdkit_to_params` allows the creation of custom topologies (params) for new ligands\n",
    "#@markdown **Code to use these not copy-pasted over**\n",
    "install_rdkit = True #@param {type:\"boolean\"}\n",
    "\n",
    "# verify the username and password are correct without actually knowing them.\n",
    "import hashlib\n",
    "hashed_username = hashlib.sha256(username).hexdigest()\n",
    "hashed_password = hashlib.sha256(password).hexdigest()\n",
    "expected_hashed_username = 'cf6f296b8145262b22721e52e2edec13ce57af8c6fc990c8ae1a4aa3e50ae40e'\n",
    "expected_hashed_password = '45066dd976d8bf0c05dc8dd4d58727945c3437e6eb361ba9870097968db7a0da'\n",
    "assert hashed_username == expected_hashed_username, 'The hash of the username is not as expected'\n",
    "assert hashed_password == expected_hashed_password, 'The hash of the password is not as expected'\n",
    "\n",
    "import sys\n",
    "import os\n",
    "import importlib\n",
    "import pip\n",
    "\n",
    "def install_and_import(package):\n",
    "    \"\"\"This only works for packages with the same name as their module\"\"\"\n",
    "    try:\n",
    "        importlib.import_module(package)\n",
    "    except ImportError:\n",
    "        pip.main(['install', package])\n",
    "    globals()[package] = importlib.import_module(package)\n",
    "\n",
    "install_and_import('distro')\n",
    "assert distro.name() == 'Ubuntu'\n",
    "\n",
    "py_version = str(sys.version_info.major) + str(sys.version_info.minor)\n",
    "if use_drive:\n",
    "  from google.colab import drive\n",
    "  drive.mount('/content/drive')\n",
    "  _path = '/content/drive/MyDrive'\n",
    "  os.chdir(_path)\n",
    "else:\n",
    "  _path = '/content'\n",
    "if not any(['PyRosetta4.Release' in filename for filename in os.listdir()]):\n",
    "  assert not os.system(f'curl -u {username}:{password} https://graylab.jhu.edu/download/PyRosetta4/archive/release/PyRosetta4.Release.python{py_version}.ubuntu/PyRosetta4.Release.python{py_version}.ubuntu.{_release}.tar.bz2 -o /content/a.tar.bz2')\n",
    "  assert not os.system('tar -xf /content/a.tar.bz2')\n",
    "assert not os.system(f'pip3 install -e {_path}/PyRosetta4.Release.python{py_version}.ubuntu.{_release}/setup/')\n",
    "assert not os.system(f'pip3 install pyrosetta-help biopython')\n",
    "if install_rdkit:\n",
    "  assert not os.system(f'pip3 install rdkit-pypi rdkit-to-params')\n",
    "\n",
    "import site\n",
    "site.main()"
   ],
   "metadata": {
    "collapsed": false,
    "pycharm": {
     "name": "#%%\n"
    }
   }
  },
  {
   "cell_type": "code",
   "metadata": {
    "id": "osb9KA8BECIK"
   },
   "source": [
    "#@title Start PyRosetta\n",
    "import pyrosetta\n",
    "import pyrosetta_help as ph\n",
    "\n",
    "#@markdown Do not optimise hydrogen on loading:\n",
    "no_optH = False #@param {type:\"boolean\"}\n",
    "#@markdown Ignore (True) or raise error (False) if novel residue (e.g. ligand)\n",
    "ignore_unrecognized_res=False  #@param {type:\"boolean\"}\n",
    "#@markdown Use autogenerated PDB residues are often weird (bad geometry, wrong match, protonated etc.): —best do it properly and parameterise it\n",
    "load_PDB_components=False  #@param {type:\"boolean\"}\n",
    "#@markdown Ignore all waters:\n",
    "ignore_waters=False  #@param {type:\"boolean\"}\n",
    "\n",
    "extra_options= ph.make_option_string(no_optH=no_optH,\n",
    "                                  ex1=None,\n",
    "                                  ex2=None,\n",
    "                                  mute='all',\n",
    "                                  ignore_unrecognized_res=ignore_unrecognized_res,\n",
    "                                  load_PDB_components=load_PDB_components,\n",
    "                                  ignore_waters=ignore_waters)\n",
    "\n",
    "\n",
    "# capture to log\n",
    "logger = ph.configure_logger()\n",
    "pyrosetta.init(extra_options=extra_options)\n"
   ],
   "execution_count": null,
   "outputs": []
  },
  {
   "cell_type": "code",
   "metadata": {
    "id": "F_Yb9sGH0Q-S"
   },
   "source": [
    "#@title Load pose\n",
    "folder_name =  'prediction_38cac' #@param {type:\"string\"}\n",
    "#@markdown This will create an object called `analyser` \n",
    "#@markdown which has the attributes\n",
    "#@markdown * `scores` (pandas DataFrame),\n",
    "#@markdown * three dictionaries (`original_poses`, `relaxed_poses`, `phospho_poses`)\n",
    "#@markdown where the key is the rank number of the pose (value)\n",
    "#@markdown * `errors` a dictionary with key = rank number and values are the matrices that \n",
    "\n",
    " to be a Rosetta pose vector (without returning a clone)\n",
    "analyser = ph.AF2NotebookAnalyser(folder=folder_name, load_poses=True)"
   ],
   "execution_count": null,
   "outputs": []
  },
  {
   "cell_type": "code",
   "metadata": {
    "id": "e21LT3935U_D"
   },
   "source": [
    "#@title Energy minimise\n",
    "\n",
    "#@markdown Check to constraints the C&alpha; atoms of residues with a harmonic function with AF2 the pairwise error as sd.\n",
    "#@markdown This is applied to two case:\n",
    "#@markdown * all non–primary-sequence–adjecent residues with an error less than 12 &Aring; and \n",
    "#@markdown * residues in different chains that are less than 15 &Aring; apart ([Rosetta-style neighbouring distance](https://blog.matteoferla.com/2020/06/love-thy-neighbours-but-select-them.html), ~C&beta; distance)\n",
    "\n",
    "constrained_errors=True  #@param {type:\"boolean\"}\n",
    "\n",
    "#@markdown Number of FastRelax cycles\n",
    "\n",
    "cycles=3   #@param {type:\"integer\"}\n",
    "analyser.sidechain_relax(cycles) # prevent blowing up...\n",
    "if constrained_errors:\n",
    " analyser.constrain(tolerance=2)\n",
    "analyser.relax(cycles)\n",
    "analyser.calculate_interface()\n",
    "\n",
    "for i in analyser.errors:\n",
    "    analyser.relaxed_poses[i].pdb_info( analyser.original_poses[i].pdb_info() )\n",
    "    if i != 1:\n",
    "        ph.superimpose_by_pLDDT(analyser.relaxed_poses[i], analyser.relaxed_poses[1])"
   ],
   "execution_count": null,
   "outputs": []
  },
  {
   "cell_type": "code",
   "metadata": {
    "id": "niQCQXovmaDk"
   },
   "source": [
    "# show Pandas table:\n",
    "analyser.scores"
   ],
   "execution_count": null,
   "outputs": []
  },
  {
   "cell_type": "code",
   "metadata": {
    "id": "vxeijFd_kz5i"
   },
   "source": [
    "#@title Add PTMs (optional)\n",
    "#@markdown This is rather weird because:\n",
    "#@markdown * PhosphoSitePlus does not have an API.\n",
    "#@markdown * Colabs does not have a multiline input\n",
    "#@markdown * this [way to copypaste data into a remove Jupyter Notebook](bhttps://gist.github.com/matteoferla/6de39f0057d283d270f834d487e358a9) does not work in Colabs\n",
    "#@markdown So for now just copy paste the PTMs table in the next cell instead of `PASTE HERE`\n"
   ],
   "execution_count": null,
   "outputs": []
  },
  {
   "cell_type": "code",
   "metadata": {
    "id": "7qJVJXIxk4fB"
   },
   "source": [
    "raw = '''PASTE HERE'''"
   ],
   "execution_count": null,
   "outputs": []
  },
  {
   "cell_type": "code",
   "metadata": {
    "id": "b18iCG4Pf5XJ"
   },
   "source": [
    "#@title Add PTMs\n",
    "chain = 'A'  #@param {type:\"string\"}\n",
    "pdb_ptms = analyser.parse_phosphosite(raw, maximum=analyser.original_poses[1].chain_end(1))\n",
    "analyser.make_phosphorylated(pdb_ptms, chain, cycles)"
   ],
   "execution_count": null,
   "outputs": []
  },
  {
   "cell_type": "code",
   "metadata": {
    "id": "sJxELmyamtqJ"
   },
   "source": [
    "#@title Save poses and pandas dataframe\n",
    "\n",
    "new_folder_name =  'output' #@param {type:\"string\"}\n",
    "analyser.dump(new_folder_name)"
   ],
   "execution_count": null,
   "outputs": []
  },
  {
   "cell_type": "code",
   "metadata": {
    "id": "ef4NvJNqzLB8"
   },
   "source": [
    "# Note that nglview does not work with Colabs but py3Dmol does.\n",
    "# install py3Dmol\n",
    "os.system(f'pip3 install py3Dmol')\n",
    "import site\n",
    "site.main()\n",
    "# run\n",
    "import py3Dmol\n",
    "view = py3Dmol.view(js='https://3dmol.org/build/3Dmol.js',)\n",
    "view.addModel(ph.get_pdbstr(analyser.relaxed_pose[1]),'pdb')\n",
    "view.zoomTo()\n",
    "view"
   ],
   "execution_count": null,
   "outputs": []
  },
  {
   "cell_type": "code",
   "execution_count": null,
   "outputs": [],
   "source": [
    "#@title Upload to Michelanglo (optional)\n",
    "#@markdown [Michelanglo](https://michelanglo.sgc.ox.ac.uk/) is a website that\n",
    "#@markdown allows the creation, annotation and sharing of a webpage with an interactive protein viewport.\n",
    "#@markdown ([examples](https://michelanglo.sgc.ox.ac.uk/gallery)).\n",
    "#@markdown The created pages are private —they have a 1 in a quintillion change to be guessed within 5 tries.\n",
    "\n",
    "#@markdown Registered users (optional) can add interactive annotations to pages.\n",
    "#@markdown Leave blank for guest:\n",
    "\n",
    "username = ''  #@param {type:\"string\"}\n",
    "password = ''  #@param {type:\"string\"}\n",
    "\n",
    "#@markdown Choose initial model.\n",
    "\n",
    "chosen_pose_series = 'relaxed' #@param ['original', 'relaxed', 'phospho'] {type:\"string\"}\n",
    "chosen_rank = 1  #@param {type:\"integer\"}\n",
    "\n",
    "os.system(f'pip3 install michelanglo-api')\n",
    "import site\n",
    "site.main()\n",
    "from michelanglo_api import MikeAPI\n",
    "if not username:\n",
    "  mike = MikeAPI.guest_login()\n",
    "else:\n",
    "  mike = MikeAPI(username, password)\n",
    "\n",
    "pose = {'original': analyser.original_poses, \n",
    "        'relaxed': analyser.relaxed_poses,\n",
    "        'phospho': analyser.phospho_poses}[chosen_pose_series][chosen_rank]\n",
    "page = mike.convert_pdb(pdbblock=ph.get_pdbstr(pose))\n",
    "page.show_link()"
   ],
   "metadata": {
    "collapsed": false,
    "pycharm": {
     "name": "#%%\n"
    }
   }
  },
  {
   "cell_type": "code",
   "execution_count": null,
   "outputs": [],
   "source": [],
   "metadata": {
    "collapsed": false,
    "pycharm": {
     "name": "#%%"
    }
   }
  }
 ]
}