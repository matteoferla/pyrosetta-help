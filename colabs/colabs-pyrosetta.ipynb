{
 "cells": [
  {
   "cell_type": "code",
   "execution_count": null,
   "outputs": [],
   "source": [
    "#@title blank template\n",
    "#@markdown This notebook from [github.com/matteoferla/pyrosetta_help](https://github.com/matteoferla/pyrosetta_help).\n",
    "\n",
    "#@markdown It can be opened in Colabs via [https://colab.research.google.com/github/matteoferla/pyrosetta_help/blob/main/colabs/colabs-pyrosetta.ipynb](https://colab.research.google.com/github/matteoferla/pyrosetta_help/blob/main/colabs/colabs-pyrosetta.ipynb)\n",
    "\n",
    "#@markdown It just for loading up PyRosetta"
   ],
   "metadata": {
    "collapsed": false,
    "pycharm": {
     "name": "#%%\n"
    }
   }
  },
  {
   "cell_type": "code",
   "execution_count": null,
   "outputs": [],
   "source": [
    "#@title Installation\n",
    "#@markdown Installing PyRosetta with optional backup to your drive (way quicker next time!).\n",
    "#@markdown Note that PyRosetta occupies some 10 GB, so you'll need to be on the 100 GB plan of Google Drive (it's one pound a month).\n",
    "\n",
    "#@markdown The following is not the real password. However, the format is similar.\n",
    "username = 'boltzmann' #@param {type:\"string\"}\n",
    "password = 'constant' #@param {type:\"string\"}\n",
    "#@markdown Release to install:\n",
    "_release = 'release-295' #@param {type:\"string\"}\n",
    "#@markdown Use Google Drive for PyRosetta (way faster next time, but takes up space)\n",
    "#@markdown (NB. You may be prompted to follow a link and possibly authenticate and then copy a code into a box\n",
    "use_drive = True #@param {type:\"boolean\"}\n",
    "#@markdown Installing `rdkit` and `rdkit_to_params` allows the creation of custom topologies (params) for new ligands\n",
    "install_rdkit = True #@param {type:\"boolean\"}\n",
    "\n",
    "# verify the username and password are correct without actually knowing them.\n",
    "import hashlib\n",
    "hashed_username = hashlib.sha256(username).hexdigest()\n",
    "hashed_password = hashlib.sha256(password).hexdigest()\n",
    "expected_hashed_username = 'cf6f296b8145262b22721e52e2edec13ce57af8c6fc990c8ae1a4aa3e50ae40e'\n",
    "expected_hashed_password = '45066dd976d8bf0c05dc8dd4d58727945c3437e6eb361ba9870097968db7a0da'\n",
    "assert hashed_username == expected_hashed_username, 'The hash of the username is not as expected'\n",
    "assert hashed_password == expected_hashed_password, 'The hash of the password is not as expected'\n",
    "\n",
    "import sys\n",
    "import platform\n",
    "import os\n",
    "assert platform.dist()[0] == 'Ubuntu'\n",
    "py_version = str(sys.version_info.major) + str(sys.version_info.minor)\n",
    "if use_drive:\n",
    "  from google.colab import drive\n",
    "  drive.mount('/content/drive')\n",
    "  _path = '/content/drive/MyDrive'\n",
    "  os.chdir(_path)\n",
    "else:\n",
    "  _path = '/content'\n",
    "if not any(['PyRosetta4.Release' in filename for filename in os.listdir()]):\n",
    "  assert not os.system(f'curl -u {username}:{password} https://graylab.jhu.edu/download/PyRosetta4/archive/release/PyRosetta4.Release.python{py_version}.ubuntu/PyRosetta4.Release.python{py_version}.ubuntu.{_release}.tar.bz2 -o /content/a.tar.bz2')\n",
    "  assert not os.system('tar -xf /content/a.tar.bz2')\n",
    "assert not os.system(f'pip3 install -e {_path}/PyRosetta4.Release.python{py_version}.ubuntu.{_release}/setup/')\n",
    "assert not os.system(f'pip3 install pyrosetta-help biopython')\n",
    "if install_rdkit:\n",
    "  assert not os.system(f'pip3 install rdkit-pypi rdkit-to-params')\n",
    "\n",
    "import site\n",
    "site.main()"
   ],
   "metadata": {
    "collapsed": false,
    "pycharm": {
     "name": "#%%\n"
    }
   }
  },
  {
   "cell_type": "code",
   "execution_count": null,
   "outputs": [],
   "source": [
    "#@title Start PyRosetta\n",
    "import pyrosetta\n",
    "import pyrosetta_help as ph\n",
    "\n",
    "no_optH = False #@param {type:\"boolean\"}\n",
    "ignore_unrecognized_res=False  #@param {type:\"boolean\"}\n",
    "load_PDB_components=False  #@param {type:\"boolean\"}\n",
    "ignore_waters=False  #@param {type:\"boolean\"}\n",
    "\n",
    "\n",
    "extra_options= ph.make_option_string(no_optH=no_optH,\n",
    "                                  ex1=None,\n",
    "                                  ex2=None,\n",
    "                                  mute='all',\n",
    "                                  ignore_unrecognized_res=ignore_unrecognized_res,\n",
    "                                  load_PDB_components=load_PDB_components,\n",
    "                                  ignore_waters=ignore_waters)\n",
    "\n",
    "\n",
    "# capture to log\n",
    "logger = ph.configure_logger()\n",
    "pyrosetta.init(extra_options=extra_options)"
   ],
   "metadata": {
    "collapsed": false,
    "pycharm": {
     "name": "#%%\n"
    }
   }
  },
  {
   "cell_type": "code",
   "execution_count": null,
   "outputs": [],
   "source": [
    "## Usual stuff\n",
    "pose = ph.pose_from_alphafold2('P02144')\n",
    "\n",
    "scorefxn = pyrosetta.get_fa_scorefxn()\n",
    "relax = pyrosetta.rosetta.protocols.relax.FastRelax(scorefxn, 3)\n",
    "movemap = pyrosetta.MoveMap()\n",
    "movemap.set_bb(False)\n",
    "movemap.set_chi(True)\n",
    "relax.apply(pose)"
   ],
   "metadata": {
    "collapsed": false,
    "pycharm": {
     "name": "#%%\n"
    }
   }
  },
  {
   "cell_type": "code",
   "execution_count": null,
   "outputs": [],
   "source": [
    "# Note that nglview does not work with Colabs but py3Dmol does.\n",
    "# install py3Dmol\n",
    "os.system(f'pip3 install py3Dmol')\n",
    "import site\n",
    "site.main()\n",
    "# run\n",
    "import py3Dmol\n",
    "view = py3Dmol.view(js='https://3dmol.org/build/3Dmol.js',)\n",
    "view.addModel(ph.get_pdbstr(pose),'pdb')\n",
    "view.zoomTo()\n",
    "view"
   ],
   "metadata": {
    "collapsed": false,
    "pycharm": {
     "name": "#%%\n"
    }
   }
  },
  {
   "cell_type": "code",
   "execution_count": null,
   "outputs": [],
   "source": [
    "# Also note that RDKit Chem.Mol instances are not displays as representations by default."
   ],
   "metadata": {
    "collapsed": false,
    "pycharm": {
     "name": "#%%\n"
    }
   }
  },
  {
   "cell_type": "code",
   "execution_count": null,
   "outputs": [],
   "source": [
    "#@title Upload to Michelanglo (optional)\n",
    "#@markdown [Michelanglo](https://michelanglo.sgc.ox.ac.uk/) is a website that\n",
    "#@markdown allows the creation, annotation and sharing of a webpage with an interactive protein viewport.\n",
    "#@markdown ([examples](https://michelanglo.sgc.ox.ac.uk/gallery)).\n",
    "#@markdown The created pages are private —they have a 1 in a quintillion change to be guessed within 5 tries.\n",
    "\n",
    "#@markdown Registered users (optional) can add interactive annotations to pages.\n",
    "#@markdown A page created by a guest is editable by registered users with the URL to it\n",
    "#@markdown (this can be altered in the page settings).\n",
    "#@markdown Leave blank for guest (it will not add an interactive description):\n",
    "\n",
    "username = ''  #@param {type:\"string\"}\n",
    "password = ''  #@param {type:\"string\"}\n",
    "\n",
    "import os\n",
    "assert not os.system(f'pip3 install michelanglo-api')\n",
    "import site\n",
    "site.main()\n",
    "from michelanglo_api import MikeAPI, Prolink\n",
    "if not username:\n",
    "  mike = MikeAPI.guest_login()\n",
    "else:\n",
    "  mike = MikeAPI(username, password)\n",
    "    \n",
    "page = mike.convert_pdb(pdbblock=ph.get_pdbstr(pose),\n",
    "                        data_selection='ligand',\n",
    "                        data_focus='residue',\n",
    "                        )\n",
    "if username:\n",
    "     page.retrieve()\n",
    "     page.description = '## Description\\n\\n'\n",
    "     page.description += 'autogen bla bla'\n",
    "     page.commit()\n",
    "page.show_link()"
   ],
   "metadata": {
    "collapsed": false,
    "pycharm": {
     "name": "#%%\n"
    }
   }
  }
 ],
 "metadata": {
  "kernelspec": {
   "display_name": "Python 3",
   "language": "python",
   "name": "python3"
  },
  "language_info": {
   "codemirror_mode": {
    "name": "ipython",
    "version": 2
   },
   "file_extension": ".py",
   "mimetype": "text/x-python",
   "name": "python",
   "nbconvert_exporter": "python",
   "pygments_lexer": "ipython2",
   "version": "2.7.6"
  }
 },
 "nbformat": 4,
 "nbformat_minor": 0
}