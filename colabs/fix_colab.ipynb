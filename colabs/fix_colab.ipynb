{
 "cells": [
  {
   "cell_type": "markdown",
   "id": "57f23cf0",
   "metadata": {},
   "source": [
    "## Fix colabs\n",
    "\n",
    "The Colab notebooks are actually written in Jupyter or PyCharm.\n",
    "This hides the code and clear the output."
   ]
  },
  {
   "cell_type": "code",
   "execution_count": null,
   "id": "b14a3073",
   "metadata": {},
   "outputs": [],
   "source": [
    "import json, os\n",
    "\n",
    "folder = '.'\n",
    "for filename in os.listdir(folder):\n",
    "    if '.ipynb' not in filename:\n",
    "        continue\n",
    "    path = os.path.join(folder, filename)\n",
    "    print(path)\n",
    "    with open(path) as fh:\n",
    "        notebook = json.load(fh)\n",
    "    if 'colab' in notebook['metadata']:\n",
    "        title_name = notebook['metadata']['colab']['name']\n",
    "    print(f'The file {filename} calls itself {title_name}')\n",
    "    for cell in notebook['cells']:\n",
    "        if cell['cell_type'] == 'code':\n",
    "            cell['execution_count'] = None\n",
    "            cell['metadata']['cellView'] = 'form'\n",
    "            cell['outputs'] = []\n",
    "    with open(path, 'w') as fh:\n",
    "        notebook = json.dump(notebook, fh, sort_keys=True, indent=4)"
   ]
  }
 ],
 "metadata": {
  "kernelspec": {
   "display_name": "Python 3 (ipykernel)",
   "language": "python",
   "name": "python3"
  },
  "language_info": {
   "codemirror_mode": {
    "name": "ipython",
    "version": 3
   },
   "file_extension": ".py",
   "mimetype": "text/x-python",
   "name": "python",
   "nbconvert_exporter": "python",
   "pygments_lexer": "ipython3",
   "version": "3.7.6"
  }
 },
 "nbformat": 4,
 "nbformat_minor": 5
}
